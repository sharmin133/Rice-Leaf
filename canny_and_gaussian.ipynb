{
  "nbformat": 4,
  "nbformat_minor": 0,
  "metadata": {
    "colab": {
      "provenance": [],
      "mount_file_id": "1HImi4ZBeg_ptGRN32nhqWkR6A-iKeKmK",
      "authorship_tag": "ABX9TyNfDS3MtdsyvrIQARy/TgbR",
      "include_colab_link": true
    },
    "kernelspec": {
      "name": "python3",
      "display_name": "Python 3"
    },
    "language_info": {
      "name": "python"
    }
  },
  "cells": [
    {
      "cell_type": "markdown",
      "metadata": {
        "id": "view-in-github",
        "colab_type": "text"
      },
      "source": [
        "<a href=\"https://colab.research.google.com/github/sharmin133/Rice-Leaf/blob/main/canny_and_gaussian.ipynb\" target=\"_parent\"><img src=\"https://colab.research.google.com/assets/colab-badge.svg\" alt=\"Open In Colab\"/></a>"
      ]
    },
    {
      "cell_type": "code",
      "source": [
        "from google.colab import drive\n",
        "drive.mount('/content/drive')"
      ],
      "metadata": {
        "id": "w-eO4SJhDnZv"
      },
      "execution_count": null,
      "outputs": []
    },
    {
      "cell_type": "code",
      "execution_count": null,
      "metadata": {
        "colab": {
          "base_uri": "https://localhost:8080/"
        },
        "id": "k23isaTdXUNb",
        "outputId": "8a5ee4a4-9f89-438d-a2b0-0d9a70f53673"
      },
      "outputs": [
        {
          "output_type": "stream",
          "name": "stderr",
          "text": [
            "Processing Bacterialblight: 100%|██████████| 1585/1585 [00:56<00:00, 28.03it/s]\n",
            "Processing Brownspot: 100%|██████████| 1600/1600 [01:20<00:00, 19.97it/s]\n",
            "Processing _Healthy: 100%|██████████| 1488/1488 [01:13<00:00, 20.18it/s]\n",
            "Processing Tungro: 100%|██████████| 1358/1358 [00:55<00:00, 24.34it/s]\n",
            "Processing Blast: 100%|██████████| 1440/1440 [00:50<00:00, 28.47it/s]\n"
          ]
        }
      ],
      "source": [
        "import cv2\n",
        "import numpy as np\n",
        "import os\n",
        "from tqdm import tqdm\n",
        "\n",
        "dataset_path = \"/content/drive/MyDrive/Final Thesis/preprocessing/noise removed/gaussian filter\"\n",
        "output_path = \"/content/drive/MyDrive/Final Thesis/Feature Extraction/Canny edge detection/gaussian+canny\"\n",
        "\n",
        "\n",
        "if not os.path.exists(output_path):\n",
        "    os.makedirs(output_path)\n",
        "\n",
        "low_threshold = 50\n",
        "high_threshold = 150\n",
        "\n",
        "\n",
        "def apply_canny_edge_detection_rgb(image):\n",
        "    edges = np.zeros_like(image)\n",
        "    for i in range(3):\n",
        "        edges[:, :, i] = cv2.Canny(image[:, :, i], low_threshold, high_threshold)\n",
        "    return edges\n",
        "\n",
        "\n",
        "for class_folder in os.listdir(dataset_path):\n",
        "    class_folder_path = os.path.join(dataset_path, class_folder)\n",
        "\n",
        "\n",
        "    for image_name in tqdm(os.listdir(class_folder_path), desc=f\"Processing {class_folder}\"):\n",
        "        image_path = os.path.join(class_folder_path, image_name)\n",
        "        img = cv2.imread(image_path)\n",
        "        edges = apply_canny_edge_detection_rgb(img)\n",
        "        output_image_path = os.path.join(output_path, class_folder, image_name)\n",
        "        os.makedirs(os.path.dirname(output_image_path), exist_ok=True)\n",
        "        cv2.imwrite(output_image_path, edges)\n"
      ]
    },
    {
      "cell_type": "code",
      "source": [],
      "metadata": {
        "id": "f1kRCiMuDmgm"
      },
      "execution_count": null,
      "outputs": []
    }
  ]
}