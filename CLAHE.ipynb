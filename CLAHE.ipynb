{
  "nbformat": 4,
  "nbformat_minor": 0,
  "metadata": {
    "colab": {
      "provenance": [],
      "mount_file_id": "1oDVEPel0Ii9PJgBjEpN5Hn4wXx82LJqO",
      "authorship_tag": "ABX9TyNz+A/aUqaWumPBHrsMBS6m",
      "include_colab_link": true
    },
    "kernelspec": {
      "name": "python3",
      "display_name": "Python 3"
    },
    "language_info": {
      "name": "python"
    }
  },
  "cells": [
    {
      "cell_type": "markdown",
      "metadata": {
        "id": "view-in-github",
        "colab_type": "text"
      },
      "source": [
        "<a href=\"https://colab.research.google.com/github/sharmin133/Rice-Leaf/blob/main/CLAHE.ipynb\" target=\"_parent\"><img src=\"https://colab.research.google.com/assets/colab-badge.svg\" alt=\"Open In Colab\"/></a>"
      ]
    },
    {
      "cell_type": "code",
      "source": [
        "\n",
        "\n",
        "import os\n",
        "import cv2\n",
        "import numpy as np\n",
        "from PIL import Image\n",
        "\n",
        "def apply_clahe_to_dataset(input_folder, output_folder, clip_limit=2.0, grid_size=(8, 8)):\n",
        "    if not os.path.exists(output_folder):\n",
        "        os.makedirs(output_folder)\n",
        "\n",
        "\n",
        "    for class_folder in os.listdir(input_folder):\n",
        "        class_path = os.path.join(input_folder, class_folder)\n",
        "        if os.path.isdir(class_path):\n",
        "\n",
        "            class_output_folder = os.path.join(output_folder, class_folder)\n",
        "            if not os.path.exists(class_output_folder):\n",
        "                os.makedirs(class_output_folder)\n",
        "\n",
        "\n",
        "            for filename in os.listdir(class_path):\n",
        "                input_path = os.path.join(class_path, filename)\n",
        "                output_path = os.path.join(class_output_folder, filename)\n",
        "\n",
        "\n",
        "                if os.path.isfile(input_path):\n",
        "\n",
        "                    with Image.open(input_path) as img:\n",
        "\n",
        "                        if img.mode == 'RGBA':\n",
        "                            img = img.convert('RGB')\n",
        "\n",
        "\n",
        "                        img_array = np.array(img)\n",
        "\n",
        "\n",
        "                        img_clahe = apply_clahe(img_array, clip_limit, grid_size)\n",
        "\n",
        "\n",
        "                        img_clahe_pil = Image.fromarray(img_clahe)\n",
        "\n",
        "                        img_clahe_pil.save(output_path)\n",
        "\n",
        "def apply_clahe(img_array, clip_limit=2.0, grid_size=(8, 8)):\n",
        "    clahe = cv2.createCLAHE(clipLimit=clip_limit, tileGridSize=grid_size)\n",
        "\n",
        "\n",
        "    img_clahe = np.empty_like(img_array)\n",
        "    for i in range(img_array.shape[2]):\n",
        "        img_clahe[:, :, i] = clahe.apply(img_array[:, :, i])\n",
        "    return img_clahe\n",
        "\n",
        "\n",
        "\n",
        "input_folder = '/content/drive/MyDrive/Final Thesis/preprocessing/resize dataset'\n",
        "output_folder = '/content/drive/MyDrive/Final Thesis/preprocessing/noise removed/CLAHE'\n",
        "apply_clahe_to_dataset(input_folder, output_folder)\n",
        "\n",
        "\n",
        "\n"
      ],
      "metadata": {
        "id": "YfY3nyYpDdkK"
      },
      "execution_count": null,
      "outputs": []
    }
  ]
}