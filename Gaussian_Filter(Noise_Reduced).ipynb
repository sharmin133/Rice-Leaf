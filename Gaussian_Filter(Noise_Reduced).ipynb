{
  "nbformat": 4,
  "nbformat_minor": 0,
  "metadata": {
    "colab": {
      "provenance": [],
      "mount_file_id": "1m-hVE4CP2zW5pff6E7aNfAFUaMSI-waA",
      "authorship_tag": "ABX9TyPLVRteZX32UswtoiVIlNKN",
      "include_colab_link": true
    },
    "kernelspec": {
      "name": "python3",
      "display_name": "Python 3"
    },
    "language_info": {
      "name": "python"
    }
  },
  "cells": [
    {
      "cell_type": "markdown",
      "metadata": {
        "id": "view-in-github",
        "colab_type": "text"
      },
      "source": [
        "<a href=\"https://colab.research.google.com/github/sharmin133/Rice-Leaf/blob/main/Gaussian_Filter(Noise_Reduced).ipynb\" target=\"_parent\"><img src=\"https://colab.research.google.com/assets/colab-badge.svg\" alt=\"Open In Colab\"/></a>"
      ]
    },
    {
      "cell_type": "code",
      "execution_count": null,
      "metadata": {
        "id": "RcyutuXQlLzl"
      },
      "outputs": [],
      "source": [
        "from PIL import Image\n",
        "import os\n",
        "import numpy as np\n",
        "from scipy.ndimage import gaussian_filter\n",
        "\n",
        "\n",
        "\n",
        "def apply_gaussian_filter_color(input_folder, output_folder, sigma):\n",
        "    if not os.path.exists(output_folder):\n",
        "        os.makedirs(output_folder)\n",
        "\n",
        "    for class_folder in os.listdir(input_folder):\n",
        "        class_path = os.path.join(input_folder, class_folder)\n",
        "        if os.path.isdir(class_path):\n",
        "\n",
        "            class_output_folder = os.path.join(output_folder, class_folder)\n",
        "            if not os.path.exists(class_output_folder):\n",
        "                os.makedirs(class_output_folder)\n",
        "\n",
        "\n",
        "            for filename in os.listdir(class_path):\n",
        "                input_path = os.path.join(class_path, filename)\n",
        "                output_path = os.path.join(class_output_folder, filename)\n",
        "\n",
        "\n",
        "                if os.path.isfile(input_path):\n",
        "\n",
        "                    with Image.open(input_path) as img:\n",
        "\n",
        "                        if img.mode == 'RGBA':\n",
        "                            img = img.convert('RGB')\n",
        "\n",
        "\n",
        "\n",
        "                        img_array = np.array(img)\n",
        "                        filtered_img_array = np.zeros_like(img_array, dtype=np.float64)\n",
        "                        for channel in range(img_array.shape[2]):\n",
        "                            filtered_img_array[:,:,channel] = gaussian_filter(img_array[:,:,channel], sigma=sigma)\n",
        "                        filtered_img = Image.fromarray(filtered_img_array.astype('uint8'))\n",
        "                        filtered_img.save(output_path)\n",
        "\n",
        "\n",
        "\n",
        "    input_folder = \"/content/drive/MyDrive/Final Thesis/preprocessing/resize dataset\"\n",
        "    output_folder = \"/content/drive/MyDrive/Final Thesis/preprocessing/noise removed/gaussian filter\"\n",
        "    sigma = 1.5\n",
        "    apply_gaussian_filter_color(input_folder, output_folder, sigma)\n",
        "\n",
        "\n",
        "\n"
      ]
    },
    {
      "cell_type": "code",
      "source": [
        "from google.colab import drive\n",
        "drive.mount('/content/drive')"
      ],
      "metadata": {
        "id": "3S9AJD1pitJ4"
      },
      "execution_count": null,
      "outputs": []
    },
    {
      "cell_type": "code",
      "source": [],
      "metadata": {
        "id": "ZsJwx615l0bX"
      },
      "execution_count": null,
      "outputs": []
    }
  ]
}