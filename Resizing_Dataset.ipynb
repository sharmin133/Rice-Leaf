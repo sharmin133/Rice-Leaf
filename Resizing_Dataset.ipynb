{
  "nbformat": 4,
  "nbformat_minor": 0,
  "metadata": {
    "colab": {
      "provenance": [],
      "mount_file_id": "13J7B1O9PDOb_6Uy_1OPqenT08ZqDoHjy",
      "authorship_tag": "ABX9TyPK+mD2qQiQsUkakSquexeH",
      "include_colab_link": true
    },
    "kernelspec": {
      "name": "python3",
      "display_name": "Python 3"
    },
    "language_info": {
      "name": "python"
    }
  },
  "cells": [
    {
      "cell_type": "markdown",
      "metadata": {
        "id": "view-in-github",
        "colab_type": "text"
      },
      "source": [
        "<a href=\"https://colab.research.google.com/github/sharmin133/Rice-Leaf/blob/main/Resizing_Dataset.ipynb\" target=\"_parent\"><img src=\"https://colab.research.google.com/assets/colab-badge.svg\" alt=\"Open In Colab\"/></a>"
      ]
    },
    {
      "cell_type": "code",
      "source": [
        "from google.colab import drive\n",
        "drive.mount('/content/drive')"
      ],
      "metadata": {
        "id": "sb1k4_dW8Kj4"
      },
      "execution_count": null,
      "outputs": []
    },
    {
      "cell_type": "code",
      "source": [
        "from PIL import Image\n",
        "import os\n",
        "\n",
        "def resize_images(input_folder, output_folder, new_size):\n",
        "    if not os.path.exists(output_folder):\n",
        "        os.makedirs(output_folder)\n",
        "\n",
        "\n",
        "    for class_folder in os.listdir(input_folder):\n",
        "        class_path = os.path.join(input_folder, class_folder)\n",
        "        if os.path.isdir(class_path):\n",
        "            class_output_folder = os.path.join(output_folder, class_folder)\n",
        "            if not os.path.exists(class_output_folder):\n",
        "                os.makedirs(class_output_folder)\n",
        "\n",
        "\n",
        "            for filename in os.listdir(class_path):\n",
        "                input_path = os.path.join(class_path, filename)\n",
        "                output_path = os.path.join(class_output_folder, filename)\n",
        "\n",
        "\n",
        "                if os.path.isfile(input_path):\n",
        "                    with Image.open(input_path) as img:\n",
        "                        if img.mode == 'RGBA':\n",
        "                            img = img.convert('RGB')\n",
        "\n",
        "\n",
        "                        resized_img = img.resize(new_size)\n",
        "                        resized_img.save(output_path)\n",
        "\n",
        "\n",
        "if __name__ == \"__main__\":\n",
        "    input_folder = \"/content/drive/MyDrive/Thesis/Dataset/Main dataset\"\n",
        "    output_folder = \"/content/drive/MyDrive/documents/resize dataset\"\n",
        "    new_size = (227, 227)\n",
        "    resize_images(input_folder, output_folder, new_size)"
      ],
      "metadata": {
        "id": "5NiW6rCa9-3L"
      },
      "execution_count": null,
      "outputs": []
    }
  ]
}