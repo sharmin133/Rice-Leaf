{
  "nbformat": 4,
  "nbformat_minor": 0,
  "metadata": {
    "colab": {
      "provenance": [],
      "mount_file_id": "1i7KYgN8wps9cqCVaYJPfST_O5W6aK_h_",
      "authorship_tag": "ABX9TyNPToJyAHSSh5vNVZQRz2+F",
      "include_colab_link": true
    },
    "kernelspec": {
      "name": "python3",
      "display_name": "Python 3"
    },
    "language_info": {
      "name": "python"
    }
  },
  "cells": [
    {
      "cell_type": "markdown",
      "metadata": {
        "id": "view-in-github",
        "colab_type": "text"
      },
      "source": [
        "<a href=\"https://colab.research.google.com/github/sharmin133/Rice-Leaf/blob/main/gaussian%2Bprewitt.ipynb\" target=\"_parent\"><img src=\"https://colab.research.google.com/assets/colab-badge.svg\" alt=\"Open In Colab\"/></a>"
      ]
    },
    {
      "cell_type": "code",
      "source": [
        "from google.colab import drive\n",
        "drive.mount('/content/drive')"
      ],
      "metadata": {
        "id": "Uj0haB8VFcr-"
      },
      "execution_count": null,
      "outputs": []
    },
    {
      "cell_type": "code",
      "execution_count": null,
      "metadata": {
        "colab": {
          "base_uri": "https://localhost:8080/"
        },
        "id": "Y3BaJO5kHVmi",
        "outputId": "1db8236e-1df0-4de3-ae49-61b6a574c1eb"
      },
      "outputs": [
        {
          "output_type": "stream",
          "name": "stderr",
          "text": [
            "Processing _Healthy: 100%|██████████| 1488/1488 [01:40<00:00, 14.86it/s]\n",
            "Processing Tungro: 100%|██████████| 1358/1358 [01:28<00:00, 15.33it/s]\n",
            "Processing Blast: 100%|██████████| 1440/1440 [01:24<00:00, 17.08it/s]\n",
            "Processing Bacterialblight: 100%|██████████| 1585/1585 [01:56<00:00, 13.55it/s]\n",
            "Processing Brownspot: 100%|██████████| 1600/1600 [01:29<00:00, 17.91it/s]\n"
          ]
        }
      ],
      "source": [
        "import cv2\n",
        "import numpy as np\n",
        "import os\n",
        "from tqdm import tqdm\n",
        "\n",
        "\n",
        "dataset_path = \"/content/drive/MyDrive/Final Thesis/preprocessing/noise removed/gaussian filter\"\n",
        "output_path = \"/content/drive/MyDrive/Final Thesis/Feature Extraction/Prewitt edge detection/gaussian+prewitt\"\n",
        "\n",
        "\n",
        "if not os.path.exists(output_path):\n",
        "    os.makedirs(output_path)\n",
        "def apply_prewitt_edge_detection_rgb(image):\n",
        "    edges = np.zeros_like(image)\n",
        "    for i in range(3):\n",
        "        kernel_x = np.array([[-1, 0, 1], [-1, 0, 1], [-1, 0, 1]])\n",
        "        kernel_y = np.array([[-1, -1, -1], [0, 0, 0], [1, 1, 1]])\n",
        "\n",
        "        edges_x = cv2.filter2D(image[:, :, i], cv2.CV_64F, kernel_x)\n",
        "        edges_y = cv2.filter2D(image[:, :, i], cv2.CV_64F, kernel_y)\n",
        "\n",
        "        edges[:, :, i] = np.sqrt(edges_x**2 + edges_y**2)\n",
        "\n",
        "    return edges\n",
        "\n",
        "for class_folder in os.listdir(dataset_path):\n",
        "    class_folder_path = os.path.join(dataset_path, class_folder)\n",
        "    for image_name in tqdm(os.listdir(class_folder_path), desc=f\"Processing {class_folder}\"):\n",
        "        image_path = os.path.join(class_folder_path, image_name)\n",
        "        img = cv2.imread(image_path)\n",
        "        edges = apply_prewitt_edge_detection_rgb(img)\n",
        "\n",
        "\n",
        "        output_image_path = os.path.join(output_path, class_folder, image_name)\n",
        "        os.makedirs(os.path.dirname(output_image_path), exist_ok=True)\n",
        "        cv2.imwrite(output_image_path, edges)\n"
      ]
    },
    {
      "cell_type": "code",
      "source": [],
      "metadata": {
        "id": "jytpFFqaHti5"
      },
      "execution_count": null,
      "outputs": []
    }
  ]
}