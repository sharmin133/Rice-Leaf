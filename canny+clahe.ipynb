{
  "nbformat": 4,
  "nbformat_minor": 0,
  "metadata": {
    "colab": {
      "provenance": [],
      "mount_file_id": "1m87gINBK78sLvPWlf495tfi0HXT95dAx",
      "authorship_tag": "ABX9TyMfrRimcM7EtrVmrlwinEUQ",
      "include_colab_link": true
    },
    "kernelspec": {
      "name": "python3",
      "display_name": "Python 3"
    },
    "language_info": {
      "name": "python"
    }
  },
  "cells": [
    {
      "cell_type": "markdown",
      "metadata": {
        "id": "view-in-github",
        "colab_type": "text"
      },
      "source": [
        "<a href=\"https://colab.research.google.com/github/sharmin133/Rice-Leaf/blob/main/canny%2Bclahe.ipynb\" target=\"_parent\"><img src=\"https://colab.research.google.com/assets/colab-badge.svg\" alt=\"Open In Colab\"/></a>"
      ]
    },
    {
      "cell_type": "code",
      "source": [
        "from google.colab import drive\n",
        "drive.mount('/content/drive')"
      ],
      "metadata": {
        "id": "LvnqIJkNC0k9"
      },
      "execution_count": null,
      "outputs": []
    },
    {
      "cell_type": "code",
      "source": [
        "import cv2\n",
        "import numpy as np\n",
        "import os\n",
        "from tqdm import tqdm\n",
        "\n",
        "\n",
        "dataset_path = \"/content/drive/MyDrive/Final Thesis/preprocessing/noise removed/CLAHE\"\n",
        "output_path = \"/content/drive/MyDrive/Final Thesis/Feature Extraction/Canny edge detection/CLAHE+canny\"\n",
        "\n",
        "\n",
        "if not os.path.exists(output_path):\n",
        "    os.makedirs(output_path)\n",
        "low_threshold = 50\n",
        "high_threshold = 150\n",
        "\n",
        "\n",
        "def apply_canny_edge_detection_rgb(image):\n",
        "    edges = np.zeros_like(image)\n",
        "    for i in range(3):\n",
        "        edges[:, :, i] = cv2.Canny(image[:, :, i], low_threshold, high_threshold)\n",
        "    return edges\n",
        "\n",
        "\n",
        "\n",
        "for class_folder in os.listdir(dataset_path):\n",
        "    class_folder_path = os.path.join(dataset_path, class_folder)\n",
        "    for image_name in tqdm(os.listdir(class_folder_path), desc=f\"Processing {class_folder}\"):\n",
        "        image_path = os.path.join(class_folder_path, image_name)\n",
        "        img = cv2.imread(image_path)\n",
        "        edges = apply_canny_edge_detection_rgb(img)\n",
        "        output_image_path = os.path.join(output_path, class_folder, image_name)\n",
        "        os.makedirs(os.path.dirname(output_image_path), exist_ok=True)\n",
        "        cv2.imwrite(output_image_path, edges)"
      ],
      "metadata": {
        "colab": {
          "base_uri": "https://localhost:8080/"
        },
        "id": "jus-9elFLzYU",
        "outputId": "de0ba499-50b4-4a1b-8dcb-7caedf66614a"
      },
      "execution_count": null,
      "outputs": [
        {
          "output_type": "stream",
          "name": "stderr",
          "text": [
            "Processing _Healthy: 100%|██████████| 1488/1488 [01:20<00:00, 18.57it/s]\n",
            "Processing Tungro: 100%|██████████| 1358/1358 [01:45<00:00, 12.92it/s]\n",
            "Processing Blast: 100%|██████████| 1440/1440 [01:24<00:00, 17.08it/s]\n",
            "Processing Bacterialblight: 100%|██████████| 1585/1585 [01:57<00:00, 13.52it/s]\n",
            "Processing Brownspot: 100%|██████████| 1600/1600 [01:58<00:00, 13.46it/s]\n"
          ]
        }
      ]
    },
    {
      "cell_type": "code",
      "source": [],
      "metadata": {
        "id": "3XSrUcBiL2Wn"
      },
      "execution_count": null,
      "outputs": []
    },
    {
      "cell_type": "code",
      "source": [],
      "metadata": {
        "id": "QHZti9h1CzYL"
      },
      "execution_count": null,
      "outputs": []
    }
  ]
}