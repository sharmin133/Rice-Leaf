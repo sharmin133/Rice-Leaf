{
  "nbformat": 4,
  "nbformat_minor": 0,
  "metadata": {
    "colab": {
      "provenance": [],
      "mount_file_id": "128FTVQrjqq32ERAeru4sUltS8-lIFkCY",
      "authorship_tag": "ABX9TyPSJ7I0lq1Q257GsDh9/FA8",
      "include_colab_link": true
    },
    "kernelspec": {
      "name": "python3",
      "display_name": "Python 3"
    },
    "language_info": {
      "name": "python"
    }
  },
  "cells": [
    {
      "cell_type": "markdown",
      "metadata": {
        "id": "view-in-github",
        "colab_type": "text"
      },
      "source": [
        "<a href=\"https://colab.research.google.com/github/sharmin133/Rice-Leaf/blob/main/prewitt%2Bclahe.ipynb\" target=\"_parent\"><img src=\"https://colab.research.google.com/assets/colab-badge.svg\" alt=\"Open In Colab\"/></a>"
      ]
    },
    {
      "cell_type": "code",
      "source": [
        "from google.colab import drive\n",
        "drive.mount('/content/drive')"
      ],
      "metadata": {
        "id": "1jfQ3Q50FS2g"
      },
      "execution_count": null,
      "outputs": []
    },
    {
      "cell_type": "code",
      "execution_count": null,
      "metadata": {
        "colab": {
          "base_uri": "https://localhost:8080/"
        },
        "id": "bcXbsSnfKrOA",
        "outputId": "0aa8896b-bac4-4134-b22f-70d6787e61d1"
      },
      "outputs": [
        {
          "output_type": "stream",
          "name": "stderr",
          "text": [
            "Processing _Healthy: 100%|██████████| 1488/1488 [01:15<00:00, 19.83it/s]\n",
            "Processing Tungro: 100%|██████████| 1358/1358 [01:27<00:00, 15.47it/s]\n",
            "Processing Blast: 100%|██████████| 1440/1440 [01:45<00:00, 13.60it/s]\n",
            "Processing Bacterialblight: 100%|██████████| 1585/1585 [02:11<00:00, 12.10it/s]\n",
            "Processing Brownspot: 100%|██████████| 1600/1600 [02:12<00:00, 12.07it/s]\n"
          ]
        }
      ],
      "source": [
        "import cv2\n",
        "import numpy as np\n",
        "import os\n",
        "from tqdm import tqdm\n",
        "\n",
        "dataset_path = \"/content/drive/MyDrive/Final Thesis/preprocessing/noise removed/CLAHE\"\n",
        "\n",
        "output_path = \"/content/drive/MyDrive/Final Thesis/Feature Extraction/Prewitt edge detection/CHAHE+prewitt\"\n",
        "\n",
        "\n",
        "if not os.path.exists(output_path):\n",
        "    os.makedirs(output_path)\n",
        "\n",
        "\n",
        "def apply_prewitt_edge_detection_rgb(image):\n",
        "    edges = np.zeros_like(image)\n",
        "    for i in range(3):\n",
        "        kernel_x = np.array([[-1, 0, 1], [-1, 0, 1], [-1, 0, 1]])\n",
        "        kernel_y = np.array([[-1, -1, -1], [0, 0, 0], [1, 1, 1]])\n",
        "\n",
        "        edges_x = cv2.filter2D(image[:, :, i], cv2.CV_64F, kernel_x)\n",
        "        edges_y = cv2.filter2D(image[:, :, i], cv2.CV_64F, kernel_y)\n",
        "\n",
        "        edges[:, :, i] = np.sqrt(edges_x**2 + edges_y**2)\n",
        "\n",
        "    return edges\n",
        "\n",
        "for class_folder in os.listdir(dataset_path):\n",
        "    class_folder_path = os.path.join(dataset_path, class_folder)\n",
        "\n",
        "    for image_name in tqdm(os.listdir(class_folder_path), desc=f\"Processing {class_folder}\"):\n",
        "        image_path = os.path.join(class_folder_path, image_name)\n",
        "\n",
        "\n",
        "        img = cv2.imread(image_path)\n",
        "\n",
        "\n",
        "        edges = apply_prewitt_edge_detection_rgb(img)\n",
        "\n",
        "        output_image_path = os.path.join(output_path, class_folder, image_name)\n",
        "        os.makedirs(os.path.dirname(output_image_path), exist_ok=True)\n",
        "        cv2.imwrite(output_image_path, edges)"
      ]
    },
    {
      "cell_type": "code",
      "source": [],
      "metadata": {
        "id": "l0yiXBtYK72Z"
      },
      "execution_count": null,
      "outputs": []
    }
  ]
}