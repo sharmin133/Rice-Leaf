{
  "nbformat": 4,
  "nbformat_minor": 0,
  "metadata": {
    "colab": {
      "provenance": [],
      "mount_file_id": "1bEzwyFSqRrRKn9PjSmxqJqSzdrzAgKpL",
      "authorship_tag": "ABX9TyN8ODN7DO9gC2bE88uwgDSB",
      "include_colab_link": true
    },
    "kernelspec": {
      "name": "python3",
      "display_name": "Python 3"
    },
    "language_info": {
      "name": "python"
    }
  },
  "cells": [
    {
      "cell_type": "markdown",
      "metadata": {
        "id": "view-in-github",
        "colab_type": "text"
      },
      "source": [
        "<a href=\"https://colab.research.google.com/github/sharmin133/Rice-Leaf/blob/main/Average_filter_(Noise_Reduced).ipynb\" target=\"_parent\"><img src=\"https://colab.research.google.com/assets/colab-badge.svg\" alt=\"Open In Colab\"/></a>"
      ]
    },
    {
      "cell_type": "code",
      "source": [
        "from PIL import Image\n",
        "import os\n",
        "import numpy as np\n",
        "from scipy.ndimage import generic_filter\n",
        "\n",
        "def apply_average_filter_color(input_folder, output_folder, filter_size):\n",
        "    if not os.path.exists(output_folder):\n",
        "        os.makedirs(output_folder)\n",
        "\n",
        "\n",
        "    for class_folder in os.listdir(input_folder):\n",
        "        class_path = os.path.join(input_folder, class_folder)\n",
        "        if os.path.isdir(class_path):\n",
        "            class_output_folder = os.path.join(output_folder, class_folder)\n",
        "            if not os.path.exists(class_output_folder):\n",
        "                os.makedirs(class_output_folder)\n",
        "\n",
        "\n",
        "            for filename in os.listdir(class_path):\n",
        "                input_path = os.path.join(class_path, filename)\n",
        "                output_path = os.path.join(class_output_folder, filename)\n",
        "\n",
        "\n",
        "                if os.path.isfile(input_path):\n",
        "                    with Image.open(input_path) as img:\n",
        "                        if img.mode == 'RGBA':\n",
        "                            img = img.convert('RGB')\n",
        "\n",
        "\n",
        "                        img_array = np.array(img)\n",
        "\n",
        "\n",
        "                        filtered_img_array = np.zeros_like(img_array, dtype=np.float64)\n",
        "                        for channel in range(img_array.shape[2]):\n",
        "                            filtered_img_array[:,:,channel] = generic_filter(img_array[:,:,channel], np.mean, size=filter_size)\n",
        "\n",
        "\n",
        "                        filtered_img = Image.fromarray(filtered_img_array.astype('uint8'))\n",
        "                        filtered_img.save(output_path)\n",
        "\n",
        "\n",
        "if __name__ == \"__main__\":\n",
        "    input_folder = \"/content/drive/MyDrive/Final Thesis/preprocessing/resize dataset\"\n",
        "    output_folder = \"/content/drive/MyDrive/Final Thesis/preprocessing/noise removed/average filter\"\n",
        "    filter_size = 3\n",
        "    apply_average_filter_color(input_folder, output_folder, filter_size)\n"
      ],
      "metadata": {
        "id": "rS1l8_ZT0ZOD"
      },
      "execution_count": null,
      "outputs": []
    }
  ]
}